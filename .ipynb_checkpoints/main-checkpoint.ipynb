import numpy as np
import matplotlib.pyplot as plt
import pandas as pd

# Variabel Konvensional
konvensional = {
    'total_karung': 136,
    'durasi': 54 * 60 + 13,  # Konversi durasi ke detik
    'log_penimbangan': [139, 136, 140, 144, 138, 139, 143, 132, 137, 142, 137, 140, 140, 139, 138, 136, 136, 148, 141, 142, 141 , 140, 146, 146, 145, 150, 150, 145, 139, 147, 145, 145, 141, 148, 147, 147, 143, 141, 142, 146, 143, 140, 138, 147, 146, 146, 142, 145, 146, 141, 142, 146, 144, 146, 150, 149, 143, 145, 144, 149, 140, 142, 141]
}

# Variabel Digital
digital = {
    'total_karung': 138,
    'durasi': 54 * 60 + 13,  # Durasi dalam detik
    'log_penimbangan': [67.0, 144.0, 139.0, 124.0, 138.0, 141.0, 129.0, 138.0, 138.0, 130.6, 130.95, 125.65, 131.6, 129.85, 113.0, 131.0, 70.0, 73.0, 144.0, 149.65, 147.0, 123.7, 148.2, 147.45, 145.25, 144.65, 136.85, 150.1, 146.1, 142.35, 148.6, 145.0, 148.45, 149.85, 144.65, 149.6, 148.5, 149.8, 149.85, 137.95, 139.0, 145.55, 147.8, 150.15, 135.7, 143.2, 148.55, 147.3, 147.3, 148.4, 147.5, 146.8, 146.8, 144.3, 74.75, 149.0, 142.0, 148.9, 148.25, 141.15, 148.8, 150.4, 148.5, 147.75, 136.8, 147.25, 145.85, 140.0, 138.5, 148.75, 142.25]
}

# Perhitungan Total Berat Berdasarkan Log Penimbangan
total_berat_konvensional = np.sum(konvensional['log_penimbangan'])
total_berat_digital = np.sum(digital['log_penimbangan'])

# Statistik Deskriptif
mean_konvensional = np.mean(konvensional['log_penimbangan'])
mean_digital = np.mean(digital['log_penimbangan'])
std_konvensional = np.std(konvensional['log_penimbangan'])
std_digital = np.std(digital['log_penimbangan'])

# Selisih Berat
selisih_berat = abs(total_berat_digital - total_berat_konvensional)

# MAPE
mape = np.mean([abs((d - k) / k) for d, k in zip(digital['log_penimbangan'], konvensional['log_penimbangan'])]) * 100

# Visualisasi Data
plt.figure(figsize=(10, 6))

# Bar Plot untuk Total Berat dan Total Karung
labels = ['Total Berat', 'Total Karung']
konvensional_values = [total_berat_konvensional, konvensional['total_karung']]
digital_values = [total_berat_digital, digital['total_karung']]

x = np.arange(len(labels))
width = 0.35

plt.bar(x - width/2, konvensional_values, width, label='Konvensional')
plt.bar(x + width/2, digital_values, width, label='Digital')

plt.ylabel('Nilai')
plt.title('Perbandingan Total Berat dan Karung')
plt.xticks(x, labels)
plt.legend()

plt.show()

# Line Plot untuk Log Penimbangan
plt.figure(figsize=(10, 6))
plt.plot(konvensional['log_penimbangan'], label='Konvensional', marker='o')
plt.plot(digital['log_penimbangan'], label='Digital', marker='s')
plt.xlabel('Index Penimbangan')
plt.ylabel('Berat (kg)')
plt.title('Distribusi Log Penimbangan')
plt.legend()
plt.grid()
plt.show()

# Hasil Analisis
print("Statistik Deskriptif:")
print(f"Rata-rata Konvensional: {mean_konvensional:.2f}, Digital: {mean_digital:.2f}")
print(f"Standar Deviasi Konvensional: {std_konvensional:.2f}, Digital: {std_digital:.2f}")
print(f"Selisih Berat: {selisih_berat:.2f} kg")
print(f"MAPE: {mape:.2f}%")